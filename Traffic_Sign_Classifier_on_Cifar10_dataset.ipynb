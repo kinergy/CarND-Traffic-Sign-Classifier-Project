{
 "cells": [
  {
   "cell_type": "markdown",
   "metadata": {},
   "source": [
    "# Self-Driving Car - Cifar10 \n",
    "\n",
    "## Deep Learning\n",
    "\n",
    "## Project: Build a Traffic Sign Recognition Classifier\n",
    "\n",
    "In this notebook, a template is provided for you to implement your functionality in stages, which is required to successfully complete this project. If additional code is required that cannot be included in the notebook, be sure that the Python code is successfully imported and included in your submission if necessary. \n",
    "\n",
    "> **Note**: Once you have completed all of the code implementations, you need to finalize your work by exporting the iPython Notebook as an HTML document. Before exporting the notebook to html, all of the code cells need to have been run so that reviewers can see the final implementation and output. You can then export the notebook by using the menu above and navigating to  \\n\",\n",
    "    \"**File -> Download as -> HTML (.html)**. Include the finished document along with this notebook as your submission. \n",
    "\n",
    "In addition to implementing code, there is a writeup to complete. The writeup should be completed in a separate file, which can be either a markdown file or a pdf document. There is a [write up template](https://github.com/udacity/CarND-Traffic-Sign-Classifier-Project/blob/master/writeup_template.md) that can be used to guide the writing process. Completing the code template and writeup template will cover all of the [rubric points](https://review.udacity.com/#!/rubrics/481/view) for this project.\n",
    "\n",
    "The [rubric](https://review.udacity.com/#!/rubrics/481/view) contains \"Stand Out Suggestions\" for enhancing the project beyond the minimum requirements. The stand out suggestions are optional. If you decide to pursue the \"stand out suggestions\", you can include the code in this Ipython notebook and also discuss the results in the writeup file.\n",
    "\n",
    "\n",
    ">**Note:** Code and Markdown cells can be executed using the **Shift + Enter** keyboard shortcut. In addition, Markdown cells can be edited by typically double-clicking the cell to enter edit mode."
   ]
  },
  {
   "cell_type": "code",
   "execution_count": 8,
   "metadata": {
    "collapsed": true,
    "scrolled": false
   },
   "outputs": [],
   "source": [
    "import numpy as np\n",
    "import cv2"
   ]
  },
  {
   "cell_type": "markdown",
   "metadata": {},
   "source": [
    "---\n",
    "## Step 0: Load The Data"
   ]
  },
  {
   "cell_type": "code",
   "execution_count": 5,
   "metadata": {
    "scrolled": false
   },
   "outputs": [
    {
     "name": "stdout",
     "output_type": "stream",
     "text": [
      "done\n"
     ]
    }
   ],
   "source": [
    "import pickle\n",
    "import csv\n",
    "\n",
    "# # LOAD THE SIGN NAMES\n",
    "# with open('./signnames.csv', 'r') as f:\n",
    "#     reader = csv.reader(f)\n",
    "#     signnames = list(reader)\n",
    "\n",
    "# signnames = signnames[1:]\n",
    "# signnames = [item[1] for item in signnames]\n",
    "\n",
    "# # LOAD PICKLED DATA\n",
    "# # Download the data from \n",
    "# # https://d17h27t6h515a5.cloudfront.net/topher/2017/February/5898cd6f_traffic-signs-data/traffic-signs-data.zip\n",
    "# # into /traffic-signs-data. This folder was added to .gitignore to avoid storing the large file\n",
    "\n",
    "# training_file = \"./traffic-signs-data/train.p\"\n",
    "# validation_file= \"./traffic-signs-data/valid.p\"\n",
    "# testing_file = \"./traffic-signs-data/test.p\"\n",
    "\n",
    "# with open(training_file, mode='rb') as f:\n",
    "#     train = pickle.load(f)\n",
    "# with open(validation_file, mode='rb') as f:\n",
    "#     valid = pickle.load(f)\n",
    "# with open(testing_file, mode='rb') as f:\n",
    "#     test = pickle.load(f)\n",
    "    \n",
    "# X_train_orig, y_train = train['features'], train['labels']\n",
    "# X_valid_orig, y_valid = valid['features'], valid['labels']\n",
    "# X_test_orig, y_test = test['features'], test['labels']\n",
    "\n",
    "from keras.datasets import cifar10\n",
    "(X_train_orig, y_train), (X_test_orig, y_test) = cifar10.load_data()\n",
    "# y_train.shape is 2d, (50000, 1). While Keras is smart enough to handle this\n",
    "# it's a good idea to flatten the array.\n",
    "y_train = y_train.reshape(-1)\n",
    "y_test = y_test.reshape(-1)\n",
    "print('done')"
   ]
  },
  {
   "cell_type": "code",
   "execution_count": 6,
   "metadata": {},
   "outputs": [],
   "source": [
    "from sklearn.model_selection import train_test_split\n",
    "X_train_orig, X_valid_orig, y_train, y_valid = train_test_split(X_train_orig, y_train, test_size=0.3, random_state=42, stratify = y_train)"
   ]
  },
  {
   "cell_type": "markdown",
   "metadata": {},
   "source": [
    "---\n",
    "\n",
    "## Step 1: Dataset Summary & Exploration\n",
    "\n",
    "The pickled data is a dictionary with 4 key/value pairs:\n",
    "\n",
    "- `'features'` is a 4D array containing raw pixel data of the traffic sign images, (num examples, width, height, channels).\n",
    "- `'labels'` is a 1D array containing the label/class id of the traffic sign. The file `signnames.csv` contains id -> name mappings for each id.\n",
    "- `'sizes'` is a list containing tuples, (width, height) representing the original width and height the image.\n",
    "- `'coords'` is a list containing tuples, (x1, y1, x2, y2) representing coordinates of a bounding box around the sign in the image. **THESE COORDINATES ASSUME THE ORIGINAL IMAGE. THE PICKLED DATA CONTAINS RESIZED VERSIONS (32 by 32) OF THESE IMAGES**\n",
    "\n",
    "Complete the basic data summary below. Use python, numpy and/or pandas methods to calculate the data summary rather than hard coding the results. For example, the [pandas shape method](http://pandas.pydata.org/pandas-docs/stable/generated/pandas.DataFrame.shape.html) might be useful for calculating some of the summary results. "
   ]
  },
  {
   "cell_type": "markdown",
   "metadata": {},
   "source": [
    "### Provide a Basic Summary of the Data Set Using Python, Numpy and/or Pandas"
   ]
  },
  {
   "cell_type": "code",
   "execution_count": 9,
   "metadata": {
    "scrolled": false
   },
   "outputs": [
    {
     "name": "stdout",
     "output_type": "stream",
     "text": [
      "Number of training examples = 35000\n",
      "Number of validation examples =  15000\n",
      "Number of testing examples = 10000\n",
      "Image data shape = (32, 32, 3)\n",
      "Number of classes = 10\n"
     ]
    }
   ],
   "source": [
    "### Replace each question mark with the appropriate value. \n",
    "### Use python, pandas or numpy methods rather than hard coding the results\n",
    "\n",
    "# TODO: Number of training examples\n",
    "n_train = len(X_train_orig)\n",
    "\n",
    "# TODO: Number of validation examples\n",
    "n_validation = len(X_valid_orig)\n",
    "\n",
    "# TODO: Number of testing examples.\n",
    "n_test = len(X_test_orig)\n",
    "\n",
    "# TODO: What's the shape of an traffic sign image?\n",
    "image_shape = X_train_orig[0].shape\n",
    "\n",
    "# TODO: How many unique classes/labels there are in the dataset.\n",
    "n_classes = len(np.unique(y_train))\n",
    "\n",
    "print(\"Number of training examples =\", n_train)\n",
    "print(\"Number of validation examples = \", n_validation)\n",
    "print(\"Number of testing examples =\", n_test)\n",
    "print(\"Image data shape =\", image_shape)\n",
    "print(\"Number of classes =\", n_classes)"
   ]
  },
  {
   "cell_type": "markdown",
   "metadata": {},
   "source": [
    "### Include an exploratory visualization of the dataset"
   ]
  },
  {
   "cell_type": "markdown",
   "metadata": {},
   "source": [
    "Visualize the German Traffic Signs Dataset using the pickled file(s). This is open ended, suggestions include: plotting traffic sign images, plotting the count of each sign, etc. \n",
    "\n",
    "The [Matplotlib](http://matplotlib.org/) [examples](http://matplotlib.org/examples/index.html) and [gallery](http://matplotlib.org/gallery.html) pages are a great resource for doing visualizations in Python.\n",
    "\n",
    "**NOTE:** It's recommended you start with something simple first. If you wish to do more, come back to it after you've completed the rest of the sections. It can be interesting to look at the distribution of classes in the training, validation and test set. Is the distribution the same? Are there more examples of some classes than others?"
   ]
  },
  {
   "cell_type": "code",
   "execution_count": 11,
   "metadata": {
    "scrolled": false
   },
   "outputs": [
    {
     "name": "stdout",
     "output_type": "stream",
     "text": [
      "Smallest class value = 0\n",
      "Largest class value = 9\n"
     ]
    },
    {
     "data": {
      "text/plain": [
       "<matplotlib.image.AxesImage at 0x7f230c50f748>"
      ]
     },
     "execution_count": 11,
     "metadata": {},
     "output_type": "execute_result"
    },
    {
     "data": {
      "image/png": "[encoded data removed]",
      "text/plain": [
       "<matplotlib.figure.Figure at 0x7f23179fe438>"
      ]
     },
     "metadata": {},
     "output_type": "display_data"
    },
    {
     "data": {
      "image/png": "[encoded data removed]",
      "text/plain": [
       "<matplotlib.figure.Figure at 0x7f230c526e48>"
      ]
     },
     "metadata": {},
     "output_type": "display_data"
    }
   ],
   "source": [
    "### Data exploration visualization code goes here.\n",
    "### Feel free to use as many code cells as needed.\n",
    "import matplotlib.pyplot as plt\n",
    "# Visualizations will be shown in the notebook.\n",
    "%matplotlib inline\n",
    "\n",
    "plt.figure(figsize=(8,5))\n",
    "plt.title('Histogram of traffic sign training set')\n",
    "plt.hist(y_train, range(0,n_classes), align='left')\n",
    "plt.xlabel('Class')\n",
    "plt.ylabel('Number of samples')\n",
    "\n",
    "# plt.bar( np.arange( 43 ), class_counts, align='center' )\n",
    "# plt.xlabel('Class')\n",
    "# plt.ylabel('Number of training examples')\n",
    "# plt.xlim([-1, 43])\n",
    "# plt.show()\n",
    "print('Smallest class value =', min(y_train))\n",
    "print('Largest class value =', max(y_train))\n",
    "\n",
    "\n",
    "index = 500\n",
    "image = X_train_orig[index].squeeze()\n",
    "\n",
    "# def plot_image(img):\n",
    "#     plt.figure(figsize=(1,1))\n",
    "#     plt.imshow(img)\n",
    "\n",
    "image_gray = cv2.cvtColor(image, cv2.COLOR_RGB2GRAY)\n",
    "\n",
    "plt.figure(figsize=(6,2))\n",
    "plt.subplot(121)\n",
    "plt.imshow(image)\n",
    "\n",
    "plt.subplot(122)\n",
    "plt.imshow(image_gray, cmap='gray')\n"
   ]
  },
  {
   "cell_type": "markdown",
   "metadata": {},
   "source": [
    "----\n",
    "\n",
    "## Step 2: Design and Test a Model Architecture\n",
    "\n",
    "Design and implement a deep learning model that learns to recognize traffic signs. Train and test your model on the [German Traffic Sign Dataset](http://benchmark.ini.rub.de/?section=gtsrb&subsection=dataset).\n",
    "\n",
    "The LeNet-5 implementation shown in the [classroom](https://classroom.udacity.com/nanodegrees/nd013/parts/fbf77062-5703-404e-b60c-95b78b2f3f9e/modules/6df7ae49-c61c-4bb2-a23e-6527e69209ec/lessons/601ae704-1035-4287-8b11-e2c2716217ad/concepts/d4aca031-508f-4e0b-b493-e7b706120f81) at the end of the CNN lesson is a solid starting point. You'll have to change the number of classes and possibly the preprocessing, but aside from that it's plug and play! \n",
    "\n",
    "With the LeNet-5 solution from the lecture, you should expect a validation set accuracy of about 0.89. To meet specifications, the validation set accuracy will need to be at least 0.93. It is possible to get an even higher accuracy, but 0.93 is the minimum for a successful project submission. \n",
    "\n",
    "There are various aspects to consider when thinking about this problem:\n",
    "\n",
    "- Neural network architecture (is the network over or underfitting?)\n",
    "- Play around preprocessing techniques (normalization, rgb to grayscale, etc)\n",
    "- Number of examples per label (some have more than others).\n",
    "- Generate fake data.\n",
    "\n",
    "Here is an example of a [published baseline model on this problem](http://yann.lecun.com/exdb/publis/pdf/sermanet-ijcnn-11.pdf). It's not required to be familiar with the approach used in the paper but, it's good practice to try to read papers like these."
   ]
  },
  {
   "cell_type": "markdown",
   "metadata": {},
   "source": [
    "### Pre-process the Data Set (normalization, grayscale, etc.)"
   ]
  },
  {
   "cell_type": "markdown",
   "metadata": {},
   "source": [
    "Minimally, the image data should be normalized so that the data has mean zero and equal variance. For image data, `(pixel - 128)/ 128` is a quick way to approximately normalize the data and can be used in this project. \n",
    "\n",
    "Other pre-processing steps are optional. You can try different techniques to see if it improves performance. \n",
    "\n",
    "Use the code cell (or multiple code cells, if necessary) to implement the first step of your project."
   ]
  },
  {
   "cell_type": "code",
   "execution_count": 12,
   "metadata": {
    "scrolled": false
   },
   "outputs": [
    {
     "name": "stdout",
     "output_type": "stream",
     "text": [
      "Min: 0, Max: 255\n",
      "Mu: 120.57761356026786, Sigma: 61.61240457314431\n",
      "(35000, 32, 32, 1)\n"
     ]
    }
   ],
   "source": [
    "### Preprocess the data here. It is required to normalize the data. Other preprocessing steps could include \n",
    "### converting to grayscale, etc.\n",
    "### Feel free to use as many code cells as needed.\n",
    "from sklearn.utils import shuffle\n",
    "\n",
    "print('Min: {0}, Max: {1}'.format(np.min(X_train_orig), np.max(X_train_orig)))\n",
    "\n",
    "def convert_to_gray(image_array):\n",
    "    image_array_shape = image_array.shape\n",
    "    new_image_array = np.empty(image_array_shape[0:3:])\n",
    "    for index in range(0, len(image_array)):\n",
    "        new_image_array[index] = cv2.cvtColor(image_array[index].squeeze(), cv2.COLOR_BGR2GRAY)\n",
    "    new_image_array = new_image_array.reshape(tuple(list(new_image_array.shape)+ [1]))\n",
    "    return new_image_array\n",
    "\n",
    "\n",
    "def normalize(data, mu, sigma):\n",
    "    return (data-mu)/sigma\n",
    "\n",
    "\n",
    "# CONVERT TO GRAY\n",
    "X_train_gray = convert_to_gray(X_train_orig)\n",
    "X_valid_gray = convert_to_gray(X_valid_orig)\n",
    "X_test_gray = convert_to_gray(X_test_orig)\n",
    "\n",
    "# CALCULATE NORMALIZATION STATISTICS\n",
    "mu = np.mean(X_train_gray)\n",
    "sigma = np.std(X_train_gray)\n",
    "print('Mu: {0}, Sigma: {1}'.format(mu, sigma))\n",
    "\n",
    "# NORMALIZE\n",
    "X_train = normalize(X_train_gray, mu, sigma)\n",
    "X_valid = normalize(X_valid_gray, mu, sigma)\n",
    "X_test = normalize(X_test_gray, mu, sigma)\n",
    "\n",
    "# SHUFFLE\n",
    "X_train, y_train = shuffle(X_train, y_train)\n",
    "print(X_train.shape)"
   ]
  },
  {
   "cell_type": "markdown",
   "metadata": {},
   "source": [
    "### Model Architecture"
   ]
  },
  {
   "cell_type": "code",
   "execution_count": 13,
   "metadata": {
    "collapsed": true,
    "scrolled": false
   },
   "outputs": [],
   "source": [
    "### Define your architecture here.\n",
    "### Feel free to use as many code cells as needed.\n",
    "import tensorflow as tf\n",
    "\n",
    "EPOCHS = 100\n",
    "BATCH_SIZE = 128"
   ]
  },
  {
   "cell_type": "markdown",
   "metadata": {},
   "source": [
    "## SOLUTION: Implement LeNet-5\n",
    "Implement the [LeNet-5](http://yann.lecun.com/exdb/lenet/) neural network architecture.\n",
    "\n",
    "This is the only cell you need to edit.\n",
    "### Input\n",
    "The LeNet architecture accepts a 32x32xC image as input, where C is the number of color channels. Since MNIST images are grayscale, C is 1 in this case.\n",
    "\n",
    "### Architecture\n",
    "**Layer 1: Convolutional.** The output shape should be 28x28x6.\n",
    "\n",
    "**Activation.** Your choice of activation function.\n",
    "\n",
    "**Pooling.** The output shape should be 14x14x6.\n",
    "\n",
    "**Layer 2: Convolutional.** The output shape should be 10x10x16.\n",
    "\n",
    "**Activation.** Your choice of activation function.\n",
    "\n",
    "**Pooling.** The output shape should be 5x5x16.\n",
    "\n",
    "**Flatten.** Flatten the output shape of the final pooling layer such that it's 1D instead of 3D. The easiest way to do is by using `tf.contrib.layers.flatten`, which is already imported for you.\n",
    "\n",
    "**Layer 3: Fully Connected.** This should have 120 outputs.\n",
    "\n",
    "**Activation.** Your choice of activation function.\n",
    "\n",
    "**Layer 4: Fully Connected.** This should have 84 outputs.\n",
    "\n",
    "**Activation.** Your choice of activation function.\n",
    "\n",
    "**Layer 5: Fully Connected (Logits).** This should have 10 outputs.\n",
    "\n",
    "### Output\n",
    "Return the result of the 2nd fully connected layer."
   ]
  },
  {
   "cell_type": "code",
   "execution_count": 14,
   "metadata": {
    "collapsed": true,
    "scrolled": false
   },
   "outputs": [],
   "source": [
    "from tensorflow.contrib.layers import flatten\n",
    "\n",
    "def LeNet(x):    \n",
    "    # Arguments used for tf.truncated_normal, randomly defines variables for the weights and biases for each layer\n",
    "    mu = 0\n",
    "    sigma = 0.1\n",
    "    \n",
    "    # SOLUTION: Layer 1: Convolutional. Input = 32x32x1. Output = 28x28x6.\n",
    "    conv1_W = tf.Variable(tf.truncated_normal(shape=(5, 5, 1, 6), mean = mu, stddev = sigma))\n",
    "    conv1_b = tf.Variable(tf.zeros(6))\n",
    "    conv1   = tf.nn.conv2d(x, conv1_W, strides=[1, 1, 1, 1], padding='VALID') + conv1_b\n",
    "\n",
    "    # SOLUTION: Activation.\n",
    "    conv1 = tf.nn.relu(conv1)\n",
    "    \n",
    "    # Dropout\n",
    "    conv1 = tf.nn.dropout(conv1, keep_prob)\n",
    "\n",
    "    # SOLUTION: Pooling. Input = 28x28x6. Output = 14x14x6.\n",
    "    conv1 = tf.nn.max_pool(conv1, ksize=[1, 2, 2, 1], strides=[1, 2, 2, 1], padding='VALID')\n",
    "\n",
    "    # SOLUTION: Layer 2: Convolutional. Input = 14x14x6. Output = 10x10x16.\n",
    "    conv2_W = tf.Variable(tf.truncated_normal(shape=(5, 5, 6, 16), mean = mu, stddev = sigma))\n",
    "    conv2_b = tf.Variable(tf.zeros(16))\n",
    "    conv2   = tf.nn.conv2d(conv1, conv2_W, strides=[1, 1, 1, 1], padding='VALID') + conv2_b\n",
    "    \n",
    "    # SOLUTION: Activation.\n",
    "    conv2 = tf.nn.relu(conv2)\n",
    "\n",
    "    # Dropout\n",
    "    conv2 = tf.nn.dropout(conv2, keep_prob)\n",
    "\n",
    "    # SOLUTION: Pooling. Input = 10x10x16. Output = 5x5x16.\n",
    "    conv2 = tf.nn.max_pool(conv2, ksize=[1, 2, 2, 1], strides=[1, 2, 2, 1], padding='VALID')\n",
    "\n",
    "    # SOLUTION: Flatten. Input = 5x5x16. Output = 400.\n",
    "    fc0   = flatten(conv2)\n",
    "    \n",
    "    # SOLUTION: Layer 3: Fully Connected. Input = 400. Output = 120.\n",
    "    fc1_W = tf.Variable(tf.truncated_normal(shape=(400, 120), mean = mu, stddev = sigma))\n",
    "    fc1_b = tf.Variable(tf.zeros(120))\n",
    "    fc1   = tf.matmul(fc0, fc1_W) + fc1_b\n",
    "    \n",
    "    # SOLUTION: Activation.\n",
    "    fc1    = tf.nn.relu(fc1)\n",
    "\n",
    "    # Dropout\n",
    "    fc1 = tf.nn.dropout(fc1, keep_prob)\n",
    "\n",
    "    # SOLUTION: Layer 4: Fully Connected. Input = 120. Output = 84.\n",
    "    fc2_W  = tf.Variable(tf.truncated_normal(shape=(120, 84), mean = mu, stddev = sigma))\n",
    "    fc2_b  = tf.Variable(tf.zeros(84))\n",
    "    fc2    = tf.matmul(fc1, fc2_W) + fc2_b\n",
    "    \n",
    "    # SOLUTION: Activation.\n",
    "    fc2    = tf.nn.relu(fc2)\n",
    "\n",
    "    # Dropout\n",
    "    fc2 = tf.nn.dropout(fc2, keep_prob)\n",
    "\n",
    "    # SOLUTION: Layer 5: Fully Connected. Input = 84. Output = 43.\n",
    "    fc3_W  = tf.Variable(tf.truncated_normal(shape=(84, 43), mean = mu, stddev = sigma))\n",
    "    fc3_b  = tf.Variable(tf.zeros(43))\n",
    "    logits = tf.matmul(fc2, fc3_W) + fc3_b\n",
    "    \n",
    "    return logits"
   ]
  },
  {
   "cell_type": "markdown",
   "metadata": {},
   "source": [
    "### Train, Validate and Test the Model (ORIGINAL)"
   ]
  },
  {
   "cell_type": "markdown",
   "metadata": {},
   "source": [
    "A validation set can be used to assess how well the model is performing. A low accuracy on the training and validation\n",
    "sets imply underfitting. A high accuracy on the training set but low accuracy on the validation set implies overfitting."
   ]
  },
  {
   "cell_type": "code",
   "execution_count": 15,
   "metadata": {
    "collapsed": true,
    "scrolled": false
   },
   "outputs": [],
   "source": [
    "### Train your model here.\n",
    "### Calculate and report the accuracy on the training and validation set.\n",
    "### Once a final model architecture is selected, \n",
    "### the accuracy on the test set should be calculated and reported as well.\n",
    "### Feel free to use as many code cells as needed."
   ]
  },
  {
   "cell_type": "markdown",
   "metadata": {},
   "source": [
    "## Features and Labels\n",
    "Train LeNet to classify [MNIST](http://yann.lecun.com/exdb/mnist/) data.\n",
    "\n",
    "`x` is a placeholder for a batch of input images.\n",
    "`y` is a placeholder for a batch of output labels.\n",
    "\n",
    "You do not need to modify this section."
   ]
  },
  {
   "cell_type": "code",
   "execution_count": 16,
   "metadata": {
    "collapsed": true,
    "scrolled": false
   },
   "outputs": [],
   "source": [
    "x = tf.placeholder(tf.float32, (None, 32, 32, 1))\n",
    "y = tf.placeholder(tf.int32, (None))\n",
    "keep_prob = tf.placeholder_with_default(1.0, (None))\n",
    "one_hot_y = tf.one_hot(y, 43)"
   ]
  },
  {
   "cell_type": "markdown",
   "metadata": {},
   "source": [
    "## Training Pipeline\n",
    "Create a training pipeline that uses the model to classify MNIST data.\n",
    "\n",
    "You do not need to modify this section."
   ]
  },
  {
   "cell_type": "code",
   "execution_count": 17,
   "metadata": {
    "collapsed": true,
    "scrolled": false
   },
   "outputs": [],
   "source": [
    "rate = 0.001\n",
    "\n",
    "logits = LeNet(x)\n",
    "cross_entropy = tf.nn.softmax_cross_entropy_with_logits(labels=one_hot_y, logits=logits)\n",
    "loss_operation = tf.reduce_mean(cross_entropy)\n",
    "optimizer = tf.train.AdamOptimizer(learning_rate = rate)\n",
    "training_operation = optimizer.minimize(loss_operation)"
   ]
  },
  {
   "cell_type": "markdown",
   "metadata": {},
   "source": [
    "## Model Evaluation\n",
    "Evaluate how well the loss and accuracy of the model for a given dataset.\n",
    "\n",
    "You do not need to modify this section."
   ]
  },
  {
   "cell_type": "code",
   "execution_count": 18,
   "metadata": {
    "collapsed": true,
    "scrolled": false
   },
   "outputs": [],
   "source": [
    "correct_prediction = tf.equal(tf.argmax(logits, 1), tf.argmax(one_hot_y, 1))\n",
    "accuracy_operation = tf.reduce_mean(tf.cast(correct_prediction, tf.float32))\n",
    "saver = tf.train.Saver()\n",
    "\n",
    "def evaluate(X_data, y_data):\n",
    "    num_examples = len(X_data)\n",
    "    total_accuracy = 0\n",
    "    sess = tf.get_default_session()\n",
    "    for offset in range(0, num_examples, BATCH_SIZE):\n",
    "        batch_x, batch_y = X_data[offset:offset+BATCH_SIZE], y_data[offset:offset+BATCH_SIZE]\n",
    "        accuracy = sess.run(accuracy_operation, feed_dict={x: batch_x, y: batch_y})\n",
    "        total_accuracy += (accuracy * len(batch_x))\n",
    "    return total_accuracy / num_examples"
   ]
  },
  {
   "cell_type": "markdown",
   "metadata": {},
   "source": [
    "## Train the Model\n",
    "Run the training data through the training pipeline to train the model.\n",
    "\n",
    "Before each epoch, shuffle the training set.\n",
    "\n",
    "After each epoch, measure the loss and accuracy of the validation set.\n",
    "\n",
    "Save the model after training.\n",
    "\n",
    "You do not need to modify this section."
   ]
  },
  {
   "cell_type": "code",
   "execution_count": 19,
   "metadata": {
    "scrolled": false
   },
   "outputs": [
    {
     "name": "stdout",
     "output_type": "stream",
     "text": [
      "Training...\n",
      "\n",
      "EPOCH 1 ...\n",
      "Validation Accuracy = 0.312\n",
      "\n",
      "EPOCH 2 ...\n",
      "Validation Accuracy = 0.347\n",
      "\n",
      "EPOCH 3 ...\n",
      "Validation Accuracy = 0.359\n",
      "\n",
      "EPOCH 4 ...\n",
      "Validation Accuracy = 0.361\n",
      "\n",
      "EPOCH 5 ...\n",
      "Validation Accuracy = 0.373\n",
      "\n",
      "EPOCH 6 ...\n",
      "Validation Accuracy = 0.414\n",
      "\n",
      "EPOCH 7 ...\n",
      "Validation Accuracy = 0.411\n",
      "\n",
      "EPOCH 8 ...\n",
      "Validation Accuracy = 0.452\n",
      "\n",
      "EPOCH 9 ...\n",
      "Validation Accuracy = 0.439\n",
      "\n",
      "EPOCH 10 ...\n",
      "Validation Accuracy = 0.447\n",
      "\n",
      "EPOCH 11 ...\n",
      "Validation Accuracy = 0.449\n",
      "\n",
      "EPOCH 12 ...\n",
      "Validation Accuracy = 0.428\n",
      "\n",
      "EPOCH 13 ...\n",
      "Validation Accuracy = 0.474\n",
      "\n",
      "EPOCH 14 ...\n",
      "Validation Accuracy = 0.475\n",
      "\n",
      "EPOCH 15 ...\n",
      "Validation Accuracy = 0.464\n",
      "\n",
      "EPOCH 16 ...\n",
      "Validation Accuracy = 0.503\n",
      "\n",
      "EPOCH 17 ...\n",
      "Validation Accuracy = 0.505\n",
      "\n",
      "EPOCH 18 ...\n",
      "Validation Accuracy = 0.497\n",
      "\n",
      "EPOCH 19 ...\n",
      "Validation Accuracy = 0.523\n",
      "\n",
      "EPOCH 20 ...\n",
      "Validation Accuracy = 0.518\n",
      "\n",
      "EPOCH 21 ...\n",
      "Validation Accuracy = 0.521\n",
      "\n",
      "EPOCH 22 ...\n",
      "Validation Accuracy = 0.534\n",
      "\n",
      "EPOCH 23 ...\n",
      "Validation Accuracy = 0.539\n",
      "\n",
      "EPOCH 24 ...\n",
      "Validation Accuracy = 0.505\n",
      "\n",
      "EPOCH 25 ...\n",
      "Validation Accuracy = 0.523\n",
      "\n",
      "EPOCH 26 ...\n",
      "Validation Accuracy = 0.537\n",
      "\n",
      "EPOCH 27 ...\n",
      "Validation Accuracy = 0.522\n",
      "\n",
      "EPOCH 28 ...\n",
      "Validation Accuracy = 0.539\n",
      "\n",
      "EPOCH 29 ...\n",
      "Validation Accuracy = 0.545\n",
      "\n",
      "EPOCH 30 ...\n",
      "Validation Accuracy = 0.550\n",
      "\n",
      "EPOCH 31 ...\n",
      "Validation Accuracy = 0.573\n",
      "\n",
      "EPOCH 32 ...\n",
      "Validation Accuracy = 0.566\n",
      "\n",
      "EPOCH 33 ...\n",
      "Validation Accuracy = 0.558\n",
      "\n",
      "EPOCH 34 ...\n",
      "Validation Accuracy = 0.556\n",
      "\n",
      "EPOCH 35 ...\n",
      "Validation Accuracy = 0.565\n",
      "\n",
      "EPOCH 36 ...\n",
      "Validation Accuracy = 0.567\n",
      "\n",
      "EPOCH 37 ...\n",
      "Validation Accuracy = 0.560\n",
      "\n",
      "EPOCH 38 ...\n",
      "Validation Accuracy = 0.579\n",
      "\n",
      "EPOCH 39 ...\n",
      "Validation Accuracy = 0.563\n",
      "\n",
      "EPOCH 40 ...\n",
      "Validation Accuracy = 0.573\n",
      "\n",
      "EPOCH 41 ...\n",
      "Validation Accuracy = 0.575\n",
      "\n",
      "EPOCH 42 ...\n",
      "Validation Accuracy = 0.541\n",
      "\n",
      "EPOCH 43 ...\n",
      "Validation Accuracy = 0.599\n",
      "\n",
      "EPOCH 44 ...\n",
      "Validation Accuracy = 0.553\n",
      "\n",
      "EPOCH 45 ...\n",
      "Validation Accuracy = 0.582\n",
      "\n",
      "EPOCH 46 ...\n",
      "Validation Accuracy = 0.595\n",
      "\n",
      "EPOCH 47 ...\n",
      "Validation Accuracy = 0.570\n",
      "\n",
      "EPOCH 48 ...\n",
      "Validation Accuracy = 0.587\n",
      "\n",
      "EPOCH 49 ...\n",
      "Validation Accuracy = 0.567\n",
      "\n",
      "EPOCH 50 ...\n",
      "Validation Accuracy = 0.579\n",
      "\n",
      "EPOCH 51 ...\n",
      "Validation Accuracy = 0.577\n",
      "\n",
      "EPOCH 52 ...\n",
      "Validation Accuracy = 0.574\n",
      "\n",
      "EPOCH 53 ...\n",
      "Validation Accuracy = 0.595\n",
      "\n",
      "EPOCH 54 ...\n",
      "Validation Accuracy = 0.591\n",
      "\n",
      "EPOCH 55 ...\n",
      "Validation Accuracy = 0.590\n",
      "\n",
      "EPOCH 56 ...\n",
      "Validation Accuracy = 0.583\n",
      "\n",
      "EPOCH 57 ...\n",
      "Validation Accuracy = 0.587\n",
      "\n",
      "EPOCH 58 ...\n",
      "Validation Accuracy = 0.598\n",
      "\n",
      "EPOCH 59 ...\n",
      "Validation Accuracy = 0.569\n",
      "\n",
      "EPOCH 60 ...\n",
      "Validation Accuracy = 0.601\n",
      "\n",
      "EPOCH 61 ...\n",
      "Validation Accuracy = 0.585\n",
      "\n",
      "EPOCH 62 ...\n",
      "Validation Accuracy = 0.602\n",
      "\n",
      "EPOCH 63 ...\n",
      "Validation Accuracy = 0.597\n",
      "\n",
      "EPOCH 64 ...\n",
      "Validation Accuracy = 0.590\n",
      "\n",
      "EPOCH 65 ...\n",
      "Validation Accuracy = 0.587\n",
      "\n",
      "EPOCH 66 ...\n",
      "Validation Accuracy = 0.595\n",
      "\n",
      "EPOCH 67 ...\n",
      "Validation Accuracy = 0.584\n",
      "\n",
      "EPOCH 68 ...\n",
      "Validation Accuracy = 0.591\n",
      "\n",
      "EPOCH 69 ...\n",
      "Validation Accuracy = 0.607\n",
      "\n",
      "EPOCH 70 ...\n",
      "Validation Accuracy = 0.567\n",
      "\n",
      "EPOCH 71 ...\n",
      "Validation Accuracy = 0.595\n",
      "\n",
      "EPOCH 72 ...\n",
      "Validation Accuracy = 0.607\n",
      "\n",
      "EPOCH 73 ...\n",
      "Validation Accuracy = 0.589\n",
      "\n",
      "EPOCH 74 ...\n",
      "Validation Accuracy = 0.599\n",
      "\n",
      "EPOCH 75 ...\n",
      "Validation Accuracy = 0.596\n",
      "\n",
      "EPOCH 76 ...\n",
      "Validation Accuracy = 0.605\n",
      "\n",
      "EPOCH 77 ...\n",
      "Validation Accuracy = 0.578\n",
      "\n",
      "EPOCH 78 ...\n",
      "Validation Accuracy = 0.575\n",
      "\n",
      "EPOCH 79 ...\n",
      "Validation Accuracy = 0.594\n",
      "\n",
      "EPOCH 80 ...\n",
      "Validation Accuracy = 0.596\n",
      "\n",
      "EPOCH 81 ...\n",
      "Validation Accuracy = 0.586\n",
      "\n",
      "EPOCH 82 ...\n",
      "Validation Accuracy = 0.576\n",
      "\n",
      "EPOCH 83 ...\n",
      "Validation Accuracy = 0.601\n",
      "\n",
      "EPOCH 84 ...\n",
      "Validation Accuracy = 0.584\n",
      "\n",
      "EPOCH 85 ...\n",
      "Validation Accuracy = 0.589\n",
      "\n",
      "EPOCH 86 ...\n",
      "Validation Accuracy = 0.575\n",
      "\n",
      "EPOCH 87 ...\n",
      "Validation Accuracy = 0.616\n",
      "\n",
      "EPOCH 88 ...\n",
      "Validation Accuracy = 0.612\n",
      "\n",
      "EPOCH 89 ...\n",
      "Validation Accuracy = 0.573\n",
      "\n",
      "EPOCH 90 ...\n",
      "Validation Accuracy = 0.600\n",
      "\n",
      "EPOCH 91 ...\n",
      "Validation Accuracy = 0.597\n",
      "\n",
      "EPOCH 92 ...\n",
      "Validation Accuracy = 0.573\n",
      "\n",
      "EPOCH 93 ...\n",
      "Validation Accuracy = 0.602\n",
      "\n",
      "EPOCH 94 ...\n",
      "Validation Accuracy = 0.581\n",
      "\n",
      "EPOCH 95 ...\n",
      "Validation Accuracy = 0.586\n",
      "\n",
      "EPOCH 96 ...\n",
      "Validation Accuracy = 0.573\n",
      "\n",
      "EPOCH 97 ...\n",
      "Validation Accuracy = 0.582\n",
      "\n",
      "EPOCH 98 ...\n",
      "Validation Accuracy = 0.625\n",
      "\n",
      "EPOCH 99 ...\n",
      "Validation Accuracy = 0.602\n",
      "\n",
      "EPOCH 100 ...\n",
      "Validation Accuracy = 0.606\n",
      "\n",
      "Model saved\n"
     ]
    }
   ],
   "source": [
    "with tf.Session() as sess:\n",
    "    sess.run(tf.global_variables_initializer())\n",
    "    num_examples = len(X_train)\n",
    "    \n",
    "    print(\"Training...\")\n",
    "    print()\n",
    "    for i in range(EPOCHS):\n",
    "        X_train, y_train = shuffle(X_train, y_train)\n",
    "        for offset in range(0, num_examples, BATCH_SIZE):\n",
    "            end = offset + BATCH_SIZE\n",
    "            batch_x, batch_y = X_train[offset:end], y_train[offset:end]\n",
    "            sess.run(training_operation, feed_dict={x: batch_x, y: batch_y, keep_prob: 0.5})\n",
    "            \n",
    "        validation_accuracy = evaluate(X_valid, y_valid)\n",
    "        print(\"EPOCH {} ...\".format(i+1))\n",
    "        print(\"Validation Accuracy = {:.3f}\".format(validation_accuracy))\n",
    "        print()\n",
    "        \n",
    "    saver.save(sess, './lenet')\n",
    "    print(\"Model saved\")"
   ]
  },
  {
   "cell_type": "markdown",
   "metadata": {},
   "source": [
    "## Evaluate the Model\n",
    "Once you are completely satisfied with your model, evaluate the performance of the model on the test set.\n",
    "\n",
    "Be sure to only do this once!\n",
    "\n",
    "If you were to measure the performance of your trained model on the test set, then improve your model, and then measure the performance of your model on the test set again, that would invalidate your test results. You wouldn't get a true measure of how well your model would perform against real data.\n",
    "\n",
    "You do not need to modify this section."
   ]
  },
  {
   "cell_type": "code",
   "execution_count": 20,
   "metadata": {},
   "outputs": [
    {
     "name": "stdout",
     "output_type": "stream",
     "text": [
      "Training Accuracy = 0.644\n",
      "Validation Accuracy = 0.606\n",
      "Test Accuracy = 0.605\n"
     ]
    }
   ],
   "source": [
    "with tf.Session() as sess:\n",
    "    saver.restore(sess, tf.train.latest_checkpoint('.'))\n",
    "\n",
    "    train_accuracy = evaluate(X_train, y_train)\n",
    "    print(\"Training Accuracy = {:.3f}\".format(train_accuracy))\n",
    "\n",
    "    validation_accuracy = evaluate(X_valid, y_valid)\n",
    "    print(\"Validation Accuracy = {:.3f}\".format(validation_accuracy))\n",
    "    \n",
    "    test_accuracy = evaluate(X_test, y_test)\n",
    "    print(\"Test Accuracy = {:.3f}\".format(test_accuracy))"
   ]
  },
  {
   "cell_type": "markdown",
   "metadata": {},
   "source": [
    "---\n",
    "\n",
    "## Step 3: Test a Model on New Images\n",
    "\n",
    "To give yourself more insight into how your model is working, download at least five pictures of German traffic signs from the web and use your model to predict the traffic sign type.\n",
    "\n",
    "You may find `signnames.csv` useful as it contains mappings from the class id (integer) to the actual sign name."
   ]
  },
  {
   "cell_type": "markdown",
   "metadata": {},
   "source": [
    "### Load and Output the Images"
   ]
  },
  {
   "cell_type": "code",
   "execution_count": 21,
   "metadata": {
    "scrolled": false
   },
   "outputs": [
    {
     "name": "stdout",
     "output_type": "stream",
     "text": [
      "5\n",
      "X_new\n",
      "(5, 32, 32, 3)\n",
      "./five-traffic-signs/no-passing-32.png\n"
     ]
    },
    {
     "ename": "error",
     "evalue": "/io/opencv/modules/imgproc/src/color.cpp:10606: error: (-215) scn == 3 || scn == 4 in function cvtColor\n",
     "output_type": "error",
     "traceback": [
      "\u001b[0;31m---------------------------------------------------------------------------\u001b[0m",
      "\u001b[0;31merror\u001b[0m                                     Traceback (most recent call last)",
      "\u001b[0;32m<ipython-input-21-fd3d0db4af09>\u001b[0m in \u001b[0;36m<module>\u001b[0;34m()\u001b[0m\n\u001b[1;32m     34\u001b[0m     \u001b[0mimage\u001b[0m \u001b[0;34m=\u001b[0m \u001b[0mcv2\u001b[0m\u001b[0;34m.\u001b[0m\u001b[0mimread\u001b[0m\u001b[0;34m(\u001b[0m\u001b[0mfile\u001b[0m\u001b[0;34m)\u001b[0m\u001b[0;34m\u001b[0m\u001b[0m\n\u001b[1;32m     35\u001b[0m \u001b[0;34m\u001b[0m\u001b[0m\n\u001b[0;32m---> 36\u001b[0;31m     \u001b[0mimage\u001b[0m \u001b[0;34m=\u001b[0m \u001b[0mcv2\u001b[0m\u001b[0;34m.\u001b[0m\u001b[0mcvtColor\u001b[0m\u001b[0;34m(\u001b[0m\u001b[0mimage\u001b[0m\u001b[0;34m,\u001b[0m \u001b[0mcv2\u001b[0m\u001b[0;34m.\u001b[0m\u001b[0mCOLOR_BGR2RGB\u001b[0m\u001b[0;34m)\u001b[0m\u001b[0;34m\u001b[0m\u001b[0m\n\u001b[0m\u001b[1;32m     37\u001b[0m     \u001b[0mnp\u001b[0m\u001b[0;34m.\u001b[0m\u001b[0mcopyto\u001b[0m\u001b[0;34m(\u001b[0m\u001b[0mX_new\u001b[0m\u001b[0;34m[\u001b[0m\u001b[0mindex\u001b[0m\u001b[0;34m-\u001b[0m\u001b[0;36m1\u001b[0m\u001b[0;34m]\u001b[0m\u001b[0;34m,\u001b[0m \u001b[0mimage\u001b[0m\u001b[0;34m)\u001b[0m\u001b[0;34m\u001b[0m\u001b[0m\n\u001b[1;32m     38\u001b[0m     \u001b[0mplt\u001b[0m\u001b[0;34m.\u001b[0m\u001b[0msubplot\u001b[0m\u001b[0;34m(\u001b[0m\u001b[0;36m2\u001b[0m\u001b[0;34m,\u001b[0m \u001b[0mn_new_images\u001b[0m\u001b[0;34m,\u001b[0m \u001b[0mindex\u001b[0m\u001b[0;34m)\u001b[0m\u001b[0;34m\u001b[0m\u001b[0m\n",
      "\u001b[0;31merror\u001b[0m: /io/opencv/modules/imgproc/src/color.cpp:10606: error: (-215) scn == 3 || scn == 4 in function cvtColor\n"
     ]
    },
    {
     "data": {
      "text/plain": [
       "<matplotlib.figure.Figure at 0x7f23179fada0>"
      ]
     },
     "metadata": {},
     "output_type": "display_data"
    }
   ],
   "source": [
    "### Load the images and plot them here.\n",
    "### Feel free to use as many code cells as needed.\n",
    "import os\n",
    "import cv2\n",
    "import numpy as np\n",
    "import matplotlib.pyplot as plt\n",
    "%matplotlib inline\n",
    "\n",
    "new_images_dir = './five-traffic-signs'\n",
    "# new_images_filenames = os.listdir(new_images_dir)\n",
    "new_images_filenames = [\n",
    "    'no-passing-32.png',\n",
    "    'priority-road-32.png',\n",
    "    'rough-road-32.png',\n",
    "    'speed-limit-80-32.png',\n",
    "    'stop-32.png']\n",
    "\n",
    "#     'test18-32x32.jpg']\n",
    "\n",
    "plt.figure(figsize=(15,4))\n",
    "\n",
    "n_new_images = len(new_images_filenames)\n",
    "print(n_new_images)\n",
    "\n",
    "X_new = np.empty((n_new_images, 32, 32, 3), dtype=np.uint8)\n",
    "X_new_processed = np.empty((n_new_images, 32, 32))\n",
    "print('X_new')\n",
    "print(X_new.shape)\n",
    "\n",
    "index = 1\n",
    "for filename in new_images_filenames:\n",
    "    file = new_images_dir+'/'+filename\n",
    "    print(file)\n",
    "    image = cv2.imread(file)\n",
    "\n",
    "    image = cv2.cvtColor(image, cv2.COLOR_BGR2RGB)\n",
    "    np.copyto(X_new[index-1], image)\n",
    "    plt.subplot(2, n_new_images, index)\n",
    "    plt.imshow(X_new[index-1])\n",
    "    \n",
    "    gray_image = cv2.cvtColor(image, cv2.COLOR_BGR2GRAY)\n",
    "    np.copyto(X_new_processed[index-1], gray_image)\n",
    "    plt.subplot(2, n_new_images, index+n_new_images)\n",
    "    plt.imshow(gray_image, cmap='gray')\n",
    "    index = index+1\n",
    "    \n",
    "X_new_processed = X_new_processed.reshape(tuple(list(X_new_processed.shape)+ [1]))\n",
    "print(X_new_processed.shape)\n",
    "\n",
    "\n",
    "# this should be fixed so that the order of the files does not mess this up:\n",
    "y_new = [9, 12, 22, 5, 14]"
   ]
  },
  {
   "cell_type": "markdown",
   "metadata": {},
   "source": [
    "### Predict the Sign Type for Each Image"
   ]
  },
  {
   "cell_type": "code",
   "execution_count": 41,
   "metadata": {
    "scrolled": false
   },
   "outputs": [
    {
     "name": "stdout",
     "output_type": "stream",
     "text": [
      "Predictions:\n",
      "[ 9 12 22  5 14]\n"
     ]
    }
   ],
   "source": [
    "### Run the predictions here and use the model to output the prediction for each image.\n",
    "### Make sure to pre-process the images with the same pre-processing pipeline used earlier.\n",
    "### Feel free to use as many code cells as needed.\n",
    "\n",
    "from collections import OrderedDict\n",
    "\n",
    "predictions = tf.nn.softmax(logits)\n",
    "top_predictions = tf.nn.top_k(predictions, 5)\n",
    "\n",
    "# CALCULATE PREDICTIONS\n",
    "with tf.Session() as sess:\n",
    "    saver.restore(sess, tf.train.latest_checkpoint('.'))\n",
    "    [p] = sess.run([top_predictions], feed_dict={x: X_new_processed})\n",
    "\n",
    "    \n",
    "print('Predictions:')\n",
    "print(p.indices[:,0])\n",
    "\n",
    "# filtered_signnames = [signnames[i] for i in p.indices[index]]\n",
    "# print(filtered_signnames)\n",
    "# print(type(p.indices[:,0].tolist()))\n",
    "# print(signnames[p.indices[:,0].tolist()])\n",
    "\n"
   ]
  },
  {
   "cell_type": "markdown",
   "metadata": {},
   "source": [
    "\n",
    "### Analyze Performance"
   ]
  },
  {
   "cell_type": "code",
   "execution_count": 42,
   "metadata": {
    "scrolled": false
   },
   "outputs": [
    {
     "name": "stdout",
     "output_type": "stream",
     "text": [
      "Test Accuracy = 1.000\n"
     ]
    }
   ],
   "source": [
    "### Calculate the accuracy for these 5 new images. \n",
    "### For example, if the model predicted 1 out of 5 signs correctly, it's 20% accurate on these new images.\n",
    "\n",
    "with tf.Session() as sess:\n",
    "    saver.restore(sess, tf.train.latest_checkpoint('.'))\n",
    "    sess.run([correct_prediction], feed_dict={x: X_new_processed, y:y_new})\n",
    "    test_accuracy = evaluate(X_new_processed, y_new)\n",
    "    print(\"Test Accuracy = {:.3f}\".format(test_accuracy))\n"
   ]
  },
  {
   "cell_type": "markdown",
   "metadata": {},
   "source": [
    "### Output Top 5 Softmax Probabilities For Each Image Found on the Web"
   ]
  },
  {
   "cell_type": "markdown",
   "metadata": {},
   "source": [
    "For each of the new images, print out the model's softmax probabilities to show the **certainty** of the model's predictions (limit the output to the top 5 probabilities for each image). [`tf.nn.top_k`](https://www.tensorflow.org/versions/r0.12/api_docs/python/nn.html#top_k) could prove helpful here. \n",
    "\n",
    "The example below demonstrates how tf.nn.top_k can be used to find the top k predictions for each image.\n",
    "\n",
    "`tf.nn.top_k` will return the values and indices (class ids) of the top k predictions. So if k=3, for each sign, it'll return the 3 largest probabilities (out of a possible 43) and the correspoding class ids.\n",
    "\n",
    "Take this numpy array as an example. The values in the array represent predictions. The array contains softmax probabilities for five candidate images with six possible classes. `tf.nn.top_k` is used to choose the three classes with the highest probability:\n",
    "\n",
    "```\n",
    "# (5, 6) array\n",
    "a = np.array([[ 0.24879643,  0.07032244,  0.12641572,  0.34763842,  0.07893497,\n",
    "         0.12789202],\n",
    "       [ 0.28086119,  0.27569815,  0.08594638,  0.0178669 ,  0.18063401,\n",
    "         0.15899337],\n",
    "       [ 0.26076848,  0.23664738,  0.08020603,  0.07001922,  0.1134371 ,\n",
    "         0.23892179],\n",
    "       [ 0.11943333,  0.29198961,  0.02605103,  0.26234032,  0.1351348 ,\n",
    "         0.16505091],\n",
    "       [ 0.09561176,  0.34396535,  0.0643941 ,  0.16240774,  0.24206137,\n",
    "         0.09155967]])\n",
    "```\n",
    "\n",
    "Running it through `sess.run(tf.nn.top_k(tf.constant(a), k=3))` produces:\n",
    "\n",
    "```\n",
    "TopKV2(values=array([[ 0.34763842,  0.24879643,  0.12789202],\n",
    "       [ 0.28086119,  0.27569815,  0.18063401],\n",
    "       [ 0.26076848,  0.23892179,  0.23664738],\n",
    "       [ 0.29198961,  0.26234032,  0.16505091],\n",
    "       [ 0.34396535,  0.24206137,  0.16240774]]), indices=array([[3, 0, 5],\n",
    "       [0, 1, 4],\n",
    "       [0, 5, 1],\n",
    "       [1, 3, 5],\n",
    "       [1, 4, 3]], dtype=int32))\n",
    "```\n",
    "\n",
    "Looking just at the first row we get `[ 0.34763842,  0.24879643,  0.12789202]`, you can confirm these are the 3 largest probabilities in `a`. You'll also notice `[3, 0, 5]` are the corresponding indices."
   ]
  },
  {
   "cell_type": "code",
   "execution_count": 43,
   "metadata": {
    "scrolled": false
   },
   "outputs": [
    {
     "name": "stdout",
     "output_type": "stream",
     "text": [
      "Top predictions:\n",
      "[[ 9  0  1  2  3]\n",
      " [12  0  1  2  3]\n",
      " [22  0  1  2  3]\n",
      " [ 5  1  2  0  3]\n",
      " [14  0  1  2  3]]\n",
      "Probabilities:\n",
      "[[  1.00000000e+00   0.00000000e+00   0.00000000e+00   0.00000000e+00\n",
      "    0.00000000e+00]\n",
      " [  1.00000000e+00   0.00000000e+00   0.00000000e+00   0.00000000e+00\n",
      "    0.00000000e+00]\n",
      " [  1.00000000e+00   0.00000000e+00   0.00000000e+00   0.00000000e+00\n",
      "    0.00000000e+00]\n",
      " [  1.00000000e+00   1.65863857e-14   4.39027074e-34   0.00000000e+00\n",
      "    0.00000000e+00]\n",
      " [  1.00000000e+00   0.00000000e+00   0.00000000e+00   0.00000000e+00\n",
      "    0.00000000e+00]]\n"
     ]
    },
    {
     "data": {
      "image/png": "[encoded data removed]",
      "text/plain": [
       "<matplotlib.figure.Figure at 0x7fb161620b38>"
      ]
     },
     "metadata": {},
     "output_type": "display_data"
    },
    {
     "data": {
      "image/png": "[encoded data removed]",
      "text/plain": [
       "<matplotlib.figure.Figure at 0x7fb161620e80>"
      ]
     },
     "metadata": {},
     "output_type": "display_data"
    },
    {
     "data": {
      "image/png": "[encoded data removed]",
      "text/plain": [
       "<matplotlib.figure.Figure at 0x7fb160545a90>"
      ]
     },
     "metadata": {},
     "output_type": "display_data"
    },
    {
     "data": {
      "image/png": "[encoded data removed]",
      "text/plain": [
       "<matplotlib.figure.Figure at 0x7fb160692eb8>"
      ]
     },
     "metadata": {},
     "output_type": "display_data"
    },
    {
     "data": {
      "image/png": "[encoded data removed]",
      "text/plain": [
       "<matplotlib.figure.Figure at 0x7fb161491588>"
      ]
     },
     "metadata": {},
     "output_type": "display_data"
    }
   ],
   "source": [
    "### Print out the top five softmax probabilities for the predictions on the German traffic sign images found on the web. \n",
    "### Feel free to use as many code cells as needed.\n",
    "print('Top predictions:')\n",
    "print(p.indices)\n",
    "\n",
    "print('Probabilities:')\n",
    "print(p.values)\n",
    "\n",
    "\n",
    "# PLOT THE TOP PREDICTIONS FOR EACH IMAGE\n",
    "\n",
    "for index in range(len(new_images_filenames)):\n",
    "    filtered_signnames = [signnames[i] for i in p.indices[index]]\n",
    "    \n",
    "    plt.figure(figsize=(6,2))\n",
    "\n",
    "    plt.subplot(1, 2, 1)\n",
    "    image = X_new[index]\n",
    "    plt.imshow(image)\n",
    "    plt.axis('off')\n",
    "\n",
    "    plt.subplot(1, 2, 2)\n",
    "    plt.barh(np.arange(5)+0.5, p.values[index], align='center')\n",
    "    plt.yticks(np.arange(5)+0.5, filtered_signnames)\n",
    "    plt.tick_params(labelleft='off', labelright='on')\n",
    "    plt.show()\n"
   ]
  },
  {
   "cell_type": "markdown",
   "metadata": {},
   "source": [
    "### Project Writeup\n",
    "\n",
    "Once you have completed the code implementation, document your results in a project writeup using this [template](https://github.com/udacity/CarND-Traffic-Sign-Classifier-Project/blob/master/writeup_template.md) as a guide. The writeup can be in a markdown or pdf file. "
   ]
  },
  {
   "cell_type": "markdown",
   "metadata": {},
   "source": [
    "> **Note**: Once you have completed all of the code implementations and successfully answered each question above, you may finalize your work by exporting the iPython Notebook as an HTML document. You can do this by using the menu above and navigating to  \\n\",\n",
    "    \"**File -> Download as -> HTML (.html)**. Include the finished document along with this notebook as your submission."
   ]
  },
  {
   "cell_type": "markdown",
   "metadata": {},
   "source": [
    "---\n",
    "\n",
    "## Step 4 (Optional): Visualize the Neural Network's State with Test Images\n",
    "\n",
    " This Section is not required to complete but acts as an additional excersise for understaning the output of a neural network's weights. While neural networks can be a great learning device they are often referred to as a black box. We can understand what the weights of a neural network look like better by plotting their feature maps. After successfully training your neural network you can see what it's feature maps look like by plotting the output of the network's weight layers in response to a test stimuli image. From these plotted feature maps, it's possible to see what characteristics of an image the network finds interesting. For a sign, maybe the inner network feature maps react with high activation to the sign's boundary outline or to the contrast in the sign's painted symbol.\n",
    "\n",
    " Provided for you below is the function code that allows you to get the visualization output of any tensorflow weight layer you want. The inputs to the function should be a stimuli image, one used during training or a new one you provided, and then the tensorflow variable name that represents the layer's state during the training process, for instance if you wanted to see what the [LeNet lab's](https://classroom.udacity.com/nanodegrees/nd013/parts/fbf77062-5703-404e-b60c-95b78b2f3f9e/modules/6df7ae49-c61c-4bb2-a23e-6527e69209ec/lessons/601ae704-1035-4287-8b11-e2c2716217ad/concepts/d4aca031-508f-4e0b-b493-e7b706120f81) feature maps looked like for it's second convolutional layer you could enter conv2 as the tf_activation variable.\n",
    "\n",
    "For an example of what feature map outputs look like, check out NVIDIA's results in their paper [End-to-End Deep Learning for Self-Driving Cars](https://devblogs.nvidia.com/parallelforall/deep-learning-self-driving-cars/) in the section Visualization of internal CNN State. NVIDIA was able to show that their network's inner weights had high activations to road boundary lines by comparing feature maps from an image with a clear path to one without. Try experimenting with a similar test to show that your trained network's weights are looking for interesting features, whether it's looking at differences in feature maps from images with or without a sign, or even what feature maps look like in a trained network vs a completely untrained one on the same sign image.\n",
    "\n",
    "<figure>\n",
    " <img src=\"visualize_cnn.png\" width=\"380\" alt=\"Combined Image\" />\n",
    " <figcaption>\n",
    " <p></p> \n",
    " <p style=\"text-align: center;\"> Your output should look something like this (above)</p> \n",
    " </figcaption>\n",
    "</figure>\n",
    " <p></p> \n"
   ]
  },
  {
   "cell_type": "code",
   "execution_count": null,
   "metadata": {
    "collapsed": true
   },
   "outputs": [],
   "source": [
    "### Visualize your network's feature maps here.\n",
    "### Feel free to use as many code cells as needed.\n",
    "\n",
    "# image_input: the test image being fed into the network to produce the feature maps\n",
    "# tf_activation: should be a tf variable name used during your training procedure that represents the calculated state of a specific weight layer\n",
    "# activation_min/max: can be used to view the activation contrast in more detail, by default matplot sets min and max to the actual min and max values of the output\n",
    "# plt_num: used to plot out multiple different weight feature map sets on the same block, just extend the plt number for each new feature map entry\n",
    "\n",
    "def outputFeatureMap(image_input, tf_activation, activation_min=-1, activation_max=-1 ,plt_num=1):\n",
    "    # Here make sure to preprocess your image_input in a way your network expects\n",
    "    # with size, normalization, ect if needed\n",
    "    # image_input =\n",
    "    # Note: x should be the same name as your network's tensorflow data placeholder variable\n",
    "    # If you get an error tf_activation is not defined it may be having trouble accessing the variable from inside a function\n",
    "    activation = tf_activation.eval(session=sess,feed_dict={x : image_input})\n",
    "    featuremaps = activation.shape[3]\n",
    "    plt.figure(plt_num, figsize=(15,15))\n",
    "    for featuremap in range(featuremaps):\n",
    "        plt.subplot(6,8, featuremap+1) # sets the number of feature maps to show on each row and column\n",
    "        plt.title('FeatureMap ' + str(featuremap)) # displays the feature map number\n",
    "        if activation_min != -1 & activation_max != -1:\n",
    "            plt.imshow(activation[0,:,:, featuremap], interpolation=\"nearest\", vmin =activation_min, vmax=activation_max, cmap=\"gray\")\n",
    "        elif activation_max != -1:\n",
    "            plt.imshow(activation[0,:,:, featuremap], interpolation=\"nearest\", vmax=activation_max, cmap=\"gray\")\n",
    "        elif activation_min !=-1:\n",
    "            plt.imshow(activation[0,:,:, featuremap], interpolation=\"nearest\", vmin=activation_min, cmap=\"gray\")\n",
    "        else:\n",
    "            plt.imshow(activation[0,:,:, featuremap], interpolation=\"nearest\", cmap=\"gray\")"
   ]
  }
 ],
 "metadata": {
  "anaconda-cloud": {},
  "kernelspec": {
   "display_name": "Python 3",
   "language": "python",
   "name": "python3"
  },
  "language_info": {
   "codemirror_mode": {
    "name": "ipython",
    "version": 3
   },
   "file_extension": ".py",
   "mimetype": "text/x-python",
   "name": "python",
   "nbconvert_exporter": "python",
   "pygments_lexer": "ipython3",
   "version": "3.5.2"
  },
  "widgets": {
   "state": {},
   "version": "1.1.2"
  }
 },
 "nbformat": 4,
 "nbformat_minor": 1
}
